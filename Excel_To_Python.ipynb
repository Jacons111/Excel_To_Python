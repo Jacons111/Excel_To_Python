{
 "cells": [
  {
   "cell_type": "code",
   "execution_count": null,
   "metadata": {},
   "outputs": [],
   "source": [
    "# Install vscode and run Python\n",
    "\n",
    "# Prerequisites\n",
    "# Vscode Windows download (Found through search engine)\n",
    "# Python Windows download (Found through search engine)\n",
    "#\n",
    "# Install Extensions on Vscode: Python, Pylance, Python Debugger, Jupyter, \n",
    "# ... Jupyter Cell Tags, Jupyter Keymap, Jupyter Notebook, Jupyter Slide Show\n",
    "# \n",
    "# Create folder \"Python\" in OneDrive\n",
    "# Create folder \"Graphs\" in Python\n",
    "# To start, new file-> Jupyter Notebook-> Save in OneDrive/Python"
   ]
  },
  {
   "cell_type": "code",
   "execution_count": null,
   "metadata": {},
   "outputs": [],
   "source": [
    "# Access Excel data with Python using pandas and xlrd\n",
    "# Can access .xlsx, .xls, and .csv\n",
    "\n",
    "# Prerequisites for data transfer\n",
    "# In command prompt (run as administrator) type ->\n",
    "# py -m pip install openpyxl\n",
    "# py -m pip install pandas\n",
    "# py -m pip install matplotlib\n",
    "# py -m pip install xlrd\n",
    "# py -m pip install numpy\n",
    "#\n",
    "# Excel files should be saved in OneDrive/Documents/Excel \n",
    "# EX. c:/Users/jacon/OneDrive/Documents/Excel/ExampleData.xlsx\n",
    "# You will need to replace \"jacon\" with your own login id, \"ExampleData\" will also change"
   ]
  },
  {
   "cell_type": "code",
   "execution_count": null,
   "metadata": {},
   "outputs": [],
   "source": [
    "### Run this cell FIRST ###\n",
    "### Imports needed for xlsx and csv files ###\n",
    "### Run this before starting ###\n",
    "### Excel file must be closed before running program ###\n",
    "from IPython.display import display\n",
    "from colorama import Fore\n",
    "import pandas as pd \n",
    "import numpy as np\n",
    "import matplotlib.pyplot as plt\n",
    "\n",
    "# xlsx and csv are accessed and labeled differently, function are the same for both\n",
    "User = input('What is your username')\n",
    "File = input('What is the name of the file') # enter \"ExampleData\"\n",
    "df = pd.read_excel('c:/Users/%s/OneDrive/Documents/Excel/%s.xlsx'%(User,File)) # accessed xlsx file, label it as df_xlsx\n",
    "display(df) # display function to read entire file"
   ]
  },
  {
   "cell_type": "code",
   "execution_count": null,
   "metadata": {},
   "outputs": [],
   "source": [
    "### Various Functions ###\n",
    "print(Fore.RED+str(df.shape)) # Number of rows & columns\n",
    "print(Fore.GREEN+str(df.shape[1])) # Number of rows & columns\n",
    "print(len(df)) # Total rows\n",
    "print(df.index) # Index size\n",
    "print(df.columns) # Column names\n",
    "print(Fore.WHITE+str(df.dtypes)) # Data types\n",
    "print(df.info()) # General info\n",
    "print(df.describe()) # Min, Max, ...\n",
    "#print(max(df['MPG'])) # Ex. MPG \n",
    "#print(max(df['G per 100 Miles'])) # Ex. G per 100 Miles\n",
    "#print(min(df['MPG'])) # Ex. MPG\n",
    "#print(round(df['G per 100 Miles'])) # Round numbers"
   ]
  },
  {
   "cell_type": "code",
   "execution_count": null,
   "metadata": {},
   "outputs": [],
   "source": [
    "# Column Selections\n",
    "df = pd.read_excel('c:/Users/constj1/OneDrive - National Grid/Documents/Excel/ExampleData.xlsx')\n",
    "#df['G per 100 Miles'] # shows items in \"Gallons\" column\n",
    "df[['MPG','Car','G per 100 Miles']] # show items in \"Car\", \"MPG\", and \"G per 100 Miles\""
   ]
  },
  {
   "cell_type": "code",
   "execution_count": null,
   "metadata": {},
   "outputs": [],
   "source": [
    "# Data Selection \n",
    "Jeep = df.iloc[7,0] \n",
    "Jeep_MPG = df.iloc[7,1]\n",
    "print(Jeep,Jeep_MPG)"
   ]
  },
  {
   "cell_type": "code",
   "execution_count": null,
   "metadata": {},
   "outputs": [],
   "source": [
    "# Create a new Column\n",
    "New_Tab = np.arange(0, 10) # set an array for data\n",
    "df['New Tab'] = New_Tab # create a new column\n",
    "display(df)"
   ]
  },
  {
   "cell_type": "code",
   "execution_count": null,
   "metadata": {},
   "outputs": [],
   "source": [
    "### Row Selections ###\n",
    "print(df.iloc[5]) # provides all data on Malibu \n",
    "print(df.iloc[2,3]) # provides $ per 100 miles driven data on the 4Runner \n",
    "print(df.iloc[5,1:5]) # provides all data on Malibu except for name"
   ]
  },
  {
   "cell_type": "code",
   "execution_count": null,
   "metadata": {},
   "outputs": [],
   "source": [
    "# Row Math Calculations Example\n",
    "print(\"data in Malibu row =\",df.iloc[5].count()) # counts data in Malibu row\n",
    "print(df.iloc[5,1:5].sum()) # sum of data in Malibu row (meaningless)"
   ]
  },
  {
   "cell_type": "code",
   "execution_count": null,
   "metadata": {},
   "outputs": [],
   "source": [
    "### Basic Column Math Operations ###\n",
    "print(df['MPG'].sum()) # added together all data in 'MPG'\n",
    "print(df['MPG'].count()) # counted number of rows in 'MPG'\n",
    "print(df['MPG'].value_counts()) # counted different data in 'MPG'\n",
    "print(df['MPG'].mean()) # found the average of all data in 'MPG'\n",
    "print(df['MPG'].std()) # found the standard deviation in 'MPG'\n",
    "print(df['MPG'].max()) # found the maximum value within 'MPG'\n",
    "print(df['MPG'].min()) # found the minimum value within 'MPG'"
   ]
  },
  {
   "cell_type": "code",
   "execution_count": null,
   "metadata": {},
   "outputs": [],
   "source": [
    "# Sorting\n",
    "display(df.sort_values(['MPG'], ascending=False)) # after 'False,' add 'inplace=True' to update sheet\n",
    "display(df.sort_values(['Car'], ascending=True, key=lambda col:col.str.lower())) # after '.lower(),' add 'inplace=True' to update sheet"
   ]
  },
  {
   "cell_type": "code",
   "execution_count": null,
   "metadata": {},
   "outputs": [],
   "source": [
    "# Pivot Table\n",
    "df_pivot= df.pivot(index='MPG', columns='Car', values=\"G per 100 Miles\")\n",
    "display(df_pivot)\n",
    "df_pivot.to_excel('pivot_table.xlsx') # saves Excel file in PythonNG folder\n",
    "df.pivot_table(index='MPG', values='Car', aggfunc='sum') "
   ]
  },
  {
   "cell_type": "code",
   "execution_count": null,
   "metadata": {},
   "outputs": [],
   "source": [
    "# Ploting\n",
    "CarData = df.groupby('Car')['MPG'].sum()\n",
    "CarData.plot(kind='bar', ylabel='MPG', figsize=(16, 4))\n",
    "#CarData.plot(kind='pie', title='MPG of various cars', xlabel='', ylabel='',figsize=(10, 4))\n",
    "plt.savefig('Graphs/CarData.png') # saves png in PythonNG folder"
   ]
  },
  {
   "cell_type": "code",
   "execution_count": null,
   "metadata": {},
   "outputs": [],
   "source": [
    "# Ploting 2\n",
    "Car_MPG = df.iloc[0:,1].values\n",
    "plt.figure(figsize=(10, 5))\n",
    "plt.plot(Car_MPG)\n",
    "plt.xlabel('Car')\n",
    "plt.ylabel('MPG')\n",
    "plt.title('Car MPG Data')\n",
    "#plt.savefig('Graphs/Car_MPG_Data') # Save graph to graphs folder"
   ]
  },
  {
   "cell_type": "code",
   "execution_count": null,
   "metadata": {},
   "outputs": [],
   "source": [
    "# Combine sheets together \n",
    "all_sheets = pd.read_excel('c:/Users/jacon/OneDrive/Documents/Excel/ExampleData.xlsx', sheet_name=None)\n",
    "combined_df = pd.concat(all_sheets.values(), ignore_index=True)\n",
    "#print(combined_df)\n",
    "display(combined_df)"
   ]
  },
  {
   "cell_type": "code",
   "execution_count": null,
   "metadata": {},
   "outputs": [],
   "source": [
    "# Graph\n",
    "CarData = combined_df.groupby('Car').MPG.sum() # 'Car' column is the x axis names and .MPG. column is the Y axis data\n",
    "CarData.plot.bar(figsize=(10, 4)) # increases the size of graph "
   ]
  }
 ],
 "metadata": {
  "kernelspec": {
   "display_name": "Python 3",
   "language": "python",
   "name": "python3"
  },
  "language_info": {
   "codemirror_mode": {
    "name": "ipython",
    "version": 3
   },
   "file_extension": ".py",
   "mimetype": "text/x-python",
   "name": "python",
   "nbconvert_exporter": "python",
   "pygments_lexer": "ipython3",
   "version": "3.12.4"
  }
 },
 "nbformat": 4,
 "nbformat_minor": 2
}
